{
 "cells": [
  {
   "cell_type": "markdown",
   "metadata": {
    "id": "bI7SIeJ_oZMU"
   },
   "source": [
    "#  Sequential Models in NLP - Sarcasm Detection \n",
    "\n",
    "## George Mathew "
   ]
  },
  {
   "cell_type": "markdown",
   "metadata": {
    "id": "Eukag7wEoPZu"
   },
   "source": [
    "### Package Version:\n",
    "- tensorflow==2.2.0\n",
    "- pandas==1.0.5\n",
    "- numpy==1.18.5\n",
    "- google==2.0.3"
   ]
  },
  {
   "cell_type": "markdown",
   "metadata": {
    "id": "pp68FAQf9aMN"
   },
   "source": [
    "# Sarcasm Detection"
   ]
  },
  {
   "cell_type": "markdown",
   "metadata": {
    "id": "bEahVPtWX5ve"
   },
   "source": [
    "### Dataset\n",
    "\n",
    "#### Acknowledgement\n",
    "Misra, Rishabh, and Prahal Arora. \"Sarcasm Detection using Hybrid Neural Network.\" arXiv preprint arXiv:1908.07414 (2019).\n",
    "\n",
    "**Required Files given in below link.**\n",
    "\n",
    "https://drive.google.com/drive/folders/1xUnF35naPGU63xwRDVGc-DkZ3M8V5mMk"
   ]
  },
  {
   "cell_type": "code",
   "execution_count": 1,
   "metadata": {
    "id": "6HzYbcqUb2pJ"
   },
   "outputs": [],
   "source": [
    "import pandas as pd\n",
    "import numpy as np\n",
    "import re, nltk\n",
    "import tensorflow as tf\n",
    "from nltk.corpus import stopwords\n",
    "from sklearn import metrics\n",
    "\n",
    "from tensorflow.keras.preprocessing.sequence import pad_sequences\n",
    "\n",
    "from keras.preprocessing.text import Tokenizer\n",
    "from keras.preprocessing.sequence import pad_sequences\n",
    "from keras.models import Sequential\n",
    "from keras.layers import Embedding, Flatten, Dense, LSTM, Bidirectional, Dropout, TimeDistributed\n",
    "from keras import optimizers\n",
    "from keras.initializers import Constant\n",
    "from keras.optimizers import Adam\n",
    "\n",
    "import matplotlib.pyplot as plt"
   ]
  },
  {
   "cell_type": "code",
   "execution_count": 2,
   "metadata": {
    "colab": {
     "base_uri": "https://localhost:8080/"
    },
    "id": "zHGW1d2egW6g",
    "outputId": "a35e17a6-ba9f-426a-c405-4b0735648e47"
   },
   "outputs": [
    {
     "name": "stdout",
     "output_type": "stream",
     "text": [
      "Mounted at /content/drive\n"
     ]
    }
   ],
   "source": [
    " from google.colab import drive\n",
    "drive.mount('/content/drive')"
   ]
  },
  {
   "cell_type": "code",
   "execution_count": 3,
   "metadata": {
    "id": "Nt_3SkR2ir1N"
   },
   "outputs": [],
   "source": [
    "import os\n",
    "os.chdir('/content/drive/My Drive/AIML/Module 10/Project 11/Data')"
   ]
  },
  {
   "cell_type": "markdown",
   "metadata": {
    "id": "vAk6BRUh8CqL"
   },
   "source": [
    "### Load Data (5 Marks)"
   ]
  },
  {
   "cell_type": "code",
   "execution_count": 4,
   "metadata": {
    "colab": {
     "base_uri": "https://localhost:8080/",
     "height": 197
    },
    "id": "v8-PQsV0DrAZ",
    "outputId": "a7e7d0f4-f151-4bd0-ebb0-5a04cefa5050"
   },
   "outputs": [
    {
     "data": {
      "text/html": [
       "<div>\n",
       "<style scoped>\n",
       "    .dataframe tbody tr th:only-of-type {\n",
       "        vertical-align: middle;\n",
       "    }\n",
       "\n",
       "    .dataframe tbody tr th {\n",
       "        vertical-align: top;\n",
       "    }\n",
       "\n",
       "    .dataframe thead th {\n",
       "        text-align: right;\n",
       "    }\n",
       "</style>\n",
       "<table border=\"1\" class=\"dataframe\">\n",
       "  <thead>\n",
       "    <tr style=\"text-align: right;\">\n",
       "      <th></th>\n",
       "      <th>article_link</th>\n",
       "      <th>headline</th>\n",
       "      <th>is_sarcastic</th>\n",
       "    </tr>\n",
       "  </thead>\n",
       "  <tbody>\n",
       "    <tr>\n",
       "      <th>0</th>\n",
       "      <td>https://www.huffingtonpost.com/entry/versace-b...</td>\n",
       "      <td>former versace store clerk sues over secret 'b...</td>\n",
       "      <td>0</td>\n",
       "    </tr>\n",
       "    <tr>\n",
       "      <th>1</th>\n",
       "      <td>https://www.huffingtonpost.com/entry/roseanne-...</td>\n",
       "      <td>the 'roseanne' revival catches up to our thorn...</td>\n",
       "      <td>0</td>\n",
       "    </tr>\n",
       "    <tr>\n",
       "      <th>2</th>\n",
       "      <td>https://local.theonion.com/mom-starting-to-fea...</td>\n",
       "      <td>mom starting to fear son's web series closest ...</td>\n",
       "      <td>1</td>\n",
       "    </tr>\n",
       "    <tr>\n",
       "      <th>3</th>\n",
       "      <td>https://politics.theonion.com/boehner-just-wan...</td>\n",
       "      <td>boehner just wants wife to listen, not come up...</td>\n",
       "      <td>1</td>\n",
       "    </tr>\n",
       "    <tr>\n",
       "      <th>4</th>\n",
       "      <td>https://www.huffingtonpost.com/entry/jk-rowlin...</td>\n",
       "      <td>j.k. rowling wishes snape happy birthday in th...</td>\n",
       "      <td>0</td>\n",
       "    </tr>\n",
       "  </tbody>\n",
       "</table>\n",
       "</div>"
      ],
      "text/plain": [
       "                                        article_link  ... is_sarcastic\n",
       "0  https://www.huffingtonpost.com/entry/versace-b...  ...            0\n",
       "1  https://www.huffingtonpost.com/entry/roseanne-...  ...            0\n",
       "2  https://local.theonion.com/mom-starting-to-fea...  ...            1\n",
       "3  https://politics.theonion.com/boehner-just-wan...  ...            1\n",
       "4  https://www.huffingtonpost.com/entry/jk-rowlin...  ...            0\n",
       "\n",
       "[5 rows x 3 columns]"
      ]
     },
     "execution_count": 4,
     "metadata": {
      "tags": []
     },
     "output_type": "execute_result"
    }
   ],
   "source": [
    "headlines_df = pd.read_json(\"Sarcasm_Headlines_Dataset.json\", lines=True)\n",
    "headlines_df.head()"
   ]
  },
  {
   "cell_type": "code",
   "execution_count": 5,
   "metadata": {
    "colab": {
     "base_uri": "https://localhost:8080/"
    },
    "id": "F5oubIackBiH",
    "outputId": "5b2bba7b-e9c9-4ca3-e973-633ade3d8300"
   },
   "outputs": [
    {
     "data": {
      "text/plain": [
       "article_link    26709\n",
       "headline        26709\n",
       "is_sarcastic    26709\n",
       "dtype: int64"
      ]
     },
     "execution_count": 5,
     "metadata": {
      "tags": []
     },
     "output_type": "execute_result"
    }
   ],
   "source": [
    "headlines_df.count()"
   ]
  },
  {
   "cell_type": "code",
   "execution_count": 6,
   "metadata": {
    "colab": {
     "base_uri": "https://localhost:8080/"
    },
    "id": "T86rPOjckPMs",
    "outputId": "02467247-740b-422d-dbec-da74625a2534"
   },
   "outputs": [
    {
     "name": "stdout",
     "output_type": "stream",
     "text": [
      "[nltk_data] Downloading package stopwords to /root/nltk_data...\n",
      "[nltk_data]   Unzipping corpora/stopwords.zip.\n"
     ]
    }
   ],
   "source": [
    "nltk.download('stopwords')\n",
    "\n",
    "stopwords = set(stopwords.words('english'))\n",
    "\n",
    "def preprocess_text(df, column_name=''):\n",
    "\n",
    "  # Select only alphabets\n",
    "  df[column_name] = df[column_name].apply(lambda x: re.sub('[^A-Za-z]+', ' ', x))\n",
    "\n",
    "  # Convert text to lowercase\n",
    "  df[column_name] = df[column_name].apply(lambda x: x.lower())\n",
    "\n",
    "  # Strip unwanted spaces\n",
    "  df[column_name] = df[column_name].apply(lambda x: x.strip())\n",
    "\n",
    "  # Remove stopwords\n",
    "  df[column_name] = df[column_name].apply(lambda x: ' '.join([word for word in x.split() if word not in stopwords]))\n",
    "\n",
    "  # Replace empty strings with Null\n",
    "  df[column_name].replace('', np.nan, inplace = True)\n",
    "\n",
    "  # Drop Null values\n",
    "  df = df.dropna()\n",
    "\n",
    "  return df"
   ]
  },
  {
   "cell_type": "code",
   "execution_count": 7,
   "metadata": {
    "id": "Rdl9R0SJkPa7"
   },
   "outputs": [],
   "source": [
    "headlines_df = preprocess_text(headlines_df, column_name='headline')"
   ]
  },
  {
   "cell_type": "code",
   "execution_count": 8,
   "metadata": {
    "colab": {
     "base_uri": "https://localhost:8080/"
    },
    "id": "zFEfoBy_kPoy",
    "outputId": "224619b6-7810-4c8e-b1ee-cb0b5910d56e"
   },
   "outputs": [
    {
     "data": {
      "text/plain": [
       "article_link    26707\n",
       "headline        26707\n",
       "is_sarcastic    26707\n",
       "dtype: int64"
      ]
     },
     "execution_count": 8,
     "metadata": {
      "tags": []
     },
     "output_type": "execute_result"
    }
   ],
   "source": [
    "headlines_df.count()"
   ]
  },
  {
   "cell_type": "code",
   "execution_count": 9,
   "metadata": {
    "colab": {
     "base_uri": "https://localhost:8080/",
     "height": 197
    },
    "id": "gBZp9bjekP17",
    "outputId": "527d51a1-4340-4346-f89f-08a5878ff951"
   },
   "outputs": [
    {
     "data": {
      "text/html": [
       "<div>\n",
       "<style scoped>\n",
       "    .dataframe tbody tr th:only-of-type {\n",
       "        vertical-align: middle;\n",
       "    }\n",
       "\n",
       "    .dataframe tbody tr th {\n",
       "        vertical-align: top;\n",
       "    }\n",
       "\n",
       "    .dataframe thead th {\n",
       "        text-align: right;\n",
       "    }\n",
       "</style>\n",
       "<table border=\"1\" class=\"dataframe\">\n",
       "  <thead>\n",
       "    <tr style=\"text-align: right;\">\n",
       "      <th></th>\n",
       "      <th>article_link</th>\n",
       "      <th>headline</th>\n",
       "      <th>is_sarcastic</th>\n",
       "    </tr>\n",
       "  </thead>\n",
       "  <tbody>\n",
       "    <tr>\n",
       "      <th>0</th>\n",
       "      <td>https://www.huffingtonpost.com/entry/versace-b...</td>\n",
       "      <td>former versace store clerk sues secret black c...</td>\n",
       "      <td>0</td>\n",
       "    </tr>\n",
       "    <tr>\n",
       "      <th>1</th>\n",
       "      <td>https://www.huffingtonpost.com/entry/roseanne-...</td>\n",
       "      <td>roseanne revival catches thorny political mood...</td>\n",
       "      <td>0</td>\n",
       "    </tr>\n",
       "    <tr>\n",
       "      <th>2</th>\n",
       "      <td>https://local.theonion.com/mom-starting-to-fea...</td>\n",
       "      <td>mom starting fear son web series closest thing...</td>\n",
       "      <td>1</td>\n",
       "    </tr>\n",
       "    <tr>\n",
       "      <th>3</th>\n",
       "      <td>https://politics.theonion.com/boehner-just-wan...</td>\n",
       "      <td>boehner wants wife listen come alternative deb...</td>\n",
       "      <td>1</td>\n",
       "    </tr>\n",
       "    <tr>\n",
       "      <th>4</th>\n",
       "      <td>https://www.huffingtonpost.com/entry/jk-rowlin...</td>\n",
       "      <td>j k rowling wishes snape happy birthday magica...</td>\n",
       "      <td>0</td>\n",
       "    </tr>\n",
       "  </tbody>\n",
       "</table>\n",
       "</div>"
      ],
      "text/plain": [
       "                                        article_link  ... is_sarcastic\n",
       "0  https://www.huffingtonpost.com/entry/versace-b...  ...            0\n",
       "1  https://www.huffingtonpost.com/entry/roseanne-...  ...            0\n",
       "2  https://local.theonion.com/mom-starting-to-fea...  ...            1\n",
       "3  https://politics.theonion.com/boehner-just-wan...  ...            1\n",
       "4  https://www.huffingtonpost.com/entry/jk-rowlin...  ...            0\n",
       "\n",
       "[5 rows x 3 columns]"
      ]
     },
     "execution_count": 9,
     "metadata": {
      "tags": []
     },
     "output_type": "execute_result"
    }
   ],
   "source": [
    "headlines_df.head()"
   ]
  },
  {
   "cell_type": "markdown",
   "metadata": {
    "id": "z6pXf7A78E2H"
   },
   "source": [
    "### Drop `article_link` from dataset (5 Marks)"
   ]
  },
  {
   "cell_type": "code",
   "execution_count": 10,
   "metadata": {
    "id": "-WUNHq5zEV0n"
   },
   "outputs": [],
   "source": [
    "headlines_df = headlines_df[['headline', 'is_sarcastic']]"
   ]
  },
  {
   "cell_type": "code",
   "execution_count": 11,
   "metadata": {
    "colab": {
     "base_uri": "https://localhost:8080/",
     "height": 197
    },
    "id": "7MVJVDp3kpDw",
    "outputId": "e4d8f0ff-1354-4e7f-971b-ccc99066ea5f"
   },
   "outputs": [
    {
     "data": {
      "text/html": [
       "<div>\n",
       "<style scoped>\n",
       "    .dataframe tbody tr th:only-of-type {\n",
       "        vertical-align: middle;\n",
       "    }\n",
       "\n",
       "    .dataframe tbody tr th {\n",
       "        vertical-align: top;\n",
       "    }\n",
       "\n",
       "    .dataframe thead th {\n",
       "        text-align: right;\n",
       "    }\n",
       "</style>\n",
       "<table border=\"1\" class=\"dataframe\">\n",
       "  <thead>\n",
       "    <tr style=\"text-align: right;\">\n",
       "      <th></th>\n",
       "      <th>headline</th>\n",
       "      <th>is_sarcastic</th>\n",
       "    </tr>\n",
       "  </thead>\n",
       "  <tbody>\n",
       "    <tr>\n",
       "      <th>0</th>\n",
       "      <td>former versace store clerk sues secret black c...</td>\n",
       "      <td>0</td>\n",
       "    </tr>\n",
       "    <tr>\n",
       "      <th>1</th>\n",
       "      <td>roseanne revival catches thorny political mood...</td>\n",
       "      <td>0</td>\n",
       "    </tr>\n",
       "    <tr>\n",
       "      <th>2</th>\n",
       "      <td>mom starting fear son web series closest thing...</td>\n",
       "      <td>1</td>\n",
       "    </tr>\n",
       "    <tr>\n",
       "      <th>3</th>\n",
       "      <td>boehner wants wife listen come alternative deb...</td>\n",
       "      <td>1</td>\n",
       "    </tr>\n",
       "    <tr>\n",
       "      <th>4</th>\n",
       "      <td>j k rowling wishes snape happy birthday magica...</td>\n",
       "      <td>0</td>\n",
       "    </tr>\n",
       "  </tbody>\n",
       "</table>\n",
       "</div>"
      ],
      "text/plain": [
       "                                            headline  is_sarcastic\n",
       "0  former versace store clerk sues secret black c...             0\n",
       "1  roseanne revival catches thorny political mood...             0\n",
       "2  mom starting fear son web series closest thing...             1\n",
       "3  boehner wants wife listen come alternative deb...             1\n",
       "4  j k rowling wishes snape happy birthday magica...             0"
      ]
     },
     "execution_count": 11,
     "metadata": {
      "tags": []
     },
     "output_type": "execute_result"
    }
   ],
   "source": [
    "headlines_df.head()"
   ]
  },
  {
   "cell_type": "code",
   "execution_count": 12,
   "metadata": {
    "colab": {
     "base_uri": "https://localhost:8080/"
    },
    "id": "T3WHMXaLkrXu",
    "outputId": "8d4bb7c6-7a38-4a68-da79-7d99e222949a"
   },
   "outputs": [
    {
     "name": "stdout",
     "output_type": "stream",
     "text": [
      "former versace store clerk sues secret black code minority shoppers\n",
      "\n",
      "\n",
      "roseanne revival catches thorny political mood better worse\n",
      "\n",
      "\n",
      "mom starting fear son web series closest thing grandchild\n",
      "\n",
      "\n",
      "boehner wants wife listen come alternative debt reduction ideas\n",
      "\n",
      "\n",
      "j k rowling wishes snape happy birthday magical way\n",
      "\n",
      "\n"
     ]
    }
   ],
   "source": [
    "for i in range(5):\n",
    "  print(headlines_df['headline'][i])\n",
    "  print(\"\\n\")"
   ]
  },
  {
   "cell_type": "markdown",
   "metadata": {
    "id": "D0h6IOxU8OdH"
   },
   "source": [
    "### Get length of each headline and add a column for that (5 Marks)"
   ]
  },
  {
   "cell_type": "code",
   "execution_count": 13,
   "metadata": {
    "colab": {
     "base_uri": "https://localhost:8080/",
     "height": 197
    },
    "id": "MLpiBRDmEV2l",
    "outputId": "80ca30e5-abb8-4935-a111-b9a6591bd19a"
   },
   "outputs": [
    {
     "data": {
      "text/html": [
       "<div>\n",
       "<style scoped>\n",
       "    .dataframe tbody tr th:only-of-type {\n",
       "        vertical-align: middle;\n",
       "    }\n",
       "\n",
       "    .dataframe tbody tr th {\n",
       "        vertical-align: top;\n",
       "    }\n",
       "\n",
       "    .dataframe thead th {\n",
       "        text-align: right;\n",
       "    }\n",
       "</style>\n",
       "<table border=\"1\" class=\"dataframe\">\n",
       "  <thead>\n",
       "    <tr style=\"text-align: right;\">\n",
       "      <th></th>\n",
       "      <th>headline</th>\n",
       "      <th>is_sarcastic</th>\n",
       "      <th>len_headline</th>\n",
       "    </tr>\n",
       "  </thead>\n",
       "  <tbody>\n",
       "    <tr>\n",
       "      <th>0</th>\n",
       "      <td>former versace store clerk sues secret black c...</td>\n",
       "      <td>0</td>\n",
       "      <td>10</td>\n",
       "    </tr>\n",
       "    <tr>\n",
       "      <th>1</th>\n",
       "      <td>roseanne revival catches thorny political mood...</td>\n",
       "      <td>0</td>\n",
       "      <td>8</td>\n",
       "    </tr>\n",
       "    <tr>\n",
       "      <th>2</th>\n",
       "      <td>mom starting fear son web series closest thing...</td>\n",
       "      <td>1</td>\n",
       "      <td>9</td>\n",
       "    </tr>\n",
       "    <tr>\n",
       "      <th>3</th>\n",
       "      <td>boehner wants wife listen come alternative deb...</td>\n",
       "      <td>1</td>\n",
       "      <td>9</td>\n",
       "    </tr>\n",
       "    <tr>\n",
       "      <th>4</th>\n",
       "      <td>j k rowling wishes snape happy birthday magica...</td>\n",
       "      <td>0</td>\n",
       "      <td>9</td>\n",
       "    </tr>\n",
       "  </tbody>\n",
       "</table>\n",
       "</div>"
      ],
      "text/plain": [
       "                                            headline  ...  len_headline\n",
       "0  former versace store clerk sues secret black c...  ...            10\n",
       "1  roseanne revival catches thorny political mood...  ...             8\n",
       "2  mom starting fear son web series closest thing...  ...             9\n",
       "3  boehner wants wife listen come alternative deb...  ...             9\n",
       "4  j k rowling wishes snape happy birthday magica...  ...             9\n",
       "\n",
       "[5 rows x 3 columns]"
      ]
     },
     "execution_count": 13,
     "metadata": {
      "tags": []
     },
     "output_type": "execute_result"
    }
   ],
   "source": [
    "headlines_df['len_headline'] = headlines_df['headline'].apply(lambda x: len(x.split(\" \")))\n",
    "headlines_df.head()"
   ]
  },
  {
   "cell_type": "code",
   "execution_count": 14,
   "metadata": {
    "colab": {
     "base_uri": "https://localhost:8080/"
    },
    "id": "NbjopD_vk8vl",
    "outputId": "a160c731-96ac-46e9-cd02-f28a655b28be"
   },
   "outputs": [
    {
     "data": {
      "text/plain": [
       "0    14983\n",
       "1    11724\n",
       "Name: is_sarcastic, dtype: int64"
      ]
     },
     "execution_count": 14,
     "metadata": {
      "tags": []
     },
     "output_type": "execute_result"
    }
   ],
   "source": [
    "headlines_df.is_sarcastic.value_counts()"
   ]
  },
  {
   "cell_type": "code",
   "execution_count": 15,
   "metadata": {
    "colab": {
     "base_uri": "https://localhost:8080/",
     "height": 281
    },
    "id": "NUdYK1btk86o",
    "outputId": "84e44944-b279-46fa-c52e-1e93dd44c97e"
   },
   "outputs": [
    {
     "data": {
      "image/png": "[encoded data removed]",
      "text/plain": [
       "<Figure size 432x288 with 1 Axes>"
      ]
     },
     "metadata": {
      "needs_background": "light",
      "tags": []
     },
     "output_type": "display_data"
    }
   ],
   "source": [
    "import matplotlib.pyplot as plt\n",
    "text_word_count = []\n",
    "headline_word_count = []\n",
    "\n",
    "# populate the lists with headline length\n",
    "\n",
    "for i in headlines_df['headline']:\n",
    "  headline_word_count.append(len(i.split()))\n",
    "\n",
    "length_df = pd.DataFrame({'headline':headline_word_count})\n",
    "length_df.hist(bins = 50)\n",
    "plt.show()"
   ]
  },
  {
   "cell_type": "code",
   "execution_count": 16,
   "metadata": {
    "colab": {
     "base_uri": "https://localhost:8080/"
    },
    "id": "UAkM01Ljk837",
    "outputId": "84a856c9-07d0-49ff-b032-6ab0d1d3e68b"
   },
   "outputs": [
    {
     "name": "stdout",
     "output_type": "stream",
     "text": [
      "0.9999625566330924\n"
     ]
    }
   ],
   "source": [
    "cnt=0\n",
    "for i in headlines_df['headline']:\n",
    "    if(len(i.split())<=25):\n",
    "        cnt=cnt+1\n",
    "print(cnt/len(headlines_df['headline']))"
   ]
  },
  {
   "cell_type": "markdown",
   "metadata": {
    "id": "SMF-wjJ2aMwm"
   },
   "source": [
    "### Initialize parameter values\n",
    "- Set values for max_features, maxlen, & embedding_size\n",
    "- max_features: Number of words to take from tokenizer(most frequent words)\n",
    "- maxlen: Maximum length of each sentence to be limited to 25\n",
    "- embedding_size: size of embedding vector"
   ]
  },
  {
   "cell_type": "code",
   "execution_count": 17,
   "metadata": {
    "id": "jPw9gAN_EV6m"
   },
   "outputs": [],
   "source": [
    "max_features = 10000\n",
    "maxlen = 25\n",
    "embedding_size = 200"
   ]
  },
  {
   "cell_type": "markdown",
   "metadata": {
    "id": "9abSe-bM8fn9"
   },
   "source": [
    "### Apply `tensorflow.keras` Tokenizer and get indices for words (5 Marks)\n",
    "- Initialize Tokenizer object with number of words as 10000\n",
    "- Fit the tokenizer object on headline column\n",
    "- Convert the text to sequence\n"
   ]
  },
  {
   "cell_type": "code",
   "execution_count": 18,
   "metadata": {
    "id": "y8g4l0KfF3eh"
   },
   "outputs": [],
   "source": [
    "from sklearn.model_selection import train_test_split\n",
    "X_train, X_test, y_train, y_test = train_test_split(headlines_df['headline'], headlines_df['is_sarcastic'],test_size=0.2)"
   ]
  },
  {
   "cell_type": "code",
   "execution_count": 19,
   "metadata": {
    "colab": {
     "base_uri": "https://localhost:8080/"
    },
    "id": "jLaWlaYOoBX8",
    "outputId": "05bc1b1c-47ee-48f5-a8c9-47cc755d9996"
   },
   "outputs": [
    {
     "data": {
      "text/plain": [
       "((21365,), (21365,), (5342,), (5342,))"
      ]
     },
     "execution_count": 19,
     "metadata": {
      "tags": []
     },
     "output_type": "execute_result"
    }
   ],
   "source": [
    "X_train.shape, y_train.shape, X_test.shape, y_test.shape"
   ]
  },
  {
   "cell_type": "code",
   "execution_count": 20,
   "metadata": {
    "id": "jNSj2vBroBcN"
   },
   "outputs": [],
   "source": [
    "X_train, X_val, y_train, y_val = train_test_split(X_train, y_train,test_size=0.2)"
   ]
  },
  {
   "cell_type": "code",
   "execution_count": 21,
   "metadata": {
    "colab": {
     "base_uri": "https://localhost:8080/"
    },
    "id": "WZa9y927oBfz",
    "outputId": "63ce45a8-f37b-44b5-ea1d-da4c0745f383"
   },
   "outputs": [
    {
     "data": {
      "text/plain": [
       "((17092,), (17092,), (4273,), (4273,))"
      ]
     },
     "execution_count": 21,
     "metadata": {
      "tags": []
     },
     "output_type": "execute_result"
    }
   ],
   "source": [
    "X_train.shape, y_train.shape, X_val.shape, y_val.shape"
   ]
  },
  {
   "cell_type": "code",
   "execution_count": 22,
   "metadata": {
    "id": "rs8zgKnioBip"
   },
   "outputs": [],
   "source": [
    "feature_tokenizer = Tokenizer(num_words = max_features, oov_token = True)\n",
    "feature_tokenizer.fit_on_texts(X_train)\n",
    "\n",
    "X_train_seq = feature_tokenizer.texts_to_sequences(X_train)\n",
    "X_test_seq = feature_tokenizer.texts_to_sequences(X_test)\n",
    "X_val_seq = feature_tokenizer.texts_to_sequences(X_val)"
   ]
  },
  {
   "cell_type": "code",
   "execution_count": 23,
   "metadata": {
    "colab": {
     "base_uri": "https://localhost:8080/"
    },
    "id": "l68OwLuaoBy9",
    "outputId": "ba1d9dee-77e7-47ef-d431-c48a14739b7e"
   },
   "outputs": [
    {
     "name": "stdout",
     "output_type": "stream",
     "text": [
      "Number of Samples in X_train: 17092\n",
      "24181    restore power restorative sleep\n",
      "Name: headline, dtype: object\n",
      "[[2858, 235, 1, 470]]\n",
      "24181    0\n",
      "Name: is_sarcastic, dtype: int64\n"
     ]
    }
   ],
   "source": [
    "print(\"Number of Samples in X_train:\", len(X_train))       \n",
    "print(X_train[:1])\n",
    "print(X_train_seq[:1])\n",
    "print(y_train[:1])"
   ]
  },
  {
   "cell_type": "code",
   "execution_count": 24,
   "metadata": {
    "colab": {
     "base_uri": "https://localhost:8080/"
    },
    "id": "F2XpBe0goB2d",
    "outputId": "6f43da0d-8d28-43a5-f6cc-f60344b4cd90"
   },
   "outputs": [
    {
     "name": "stdout",
     "output_type": "stream",
     "text": [
      "Number of Samples in X_test: 5342\n",
      "4802    remembering pat conroy words quotes\n",
      "Name: headline, dtype: object\n",
      "[[3194, 5185, 1, 460, 3148]]\n",
      "4802    0\n",
      "Name: is_sarcastic, dtype: int64\n"
     ]
    }
   ],
   "source": [
    "print(\"Number of Samples in X_test:\", len(X_test))       \n",
    "print(X_test[:1])\n",
    "print(X_test_seq[:1])\n",
    "print(y_test[:1])"
   ]
  },
  {
   "cell_type": "code",
   "execution_count": 25,
   "metadata": {
    "colab": {
     "base_uri": "https://localhost:8080/"
    },
    "id": "LGV6Jbx3oB6J",
    "outputId": "f10a5609-9a59-40ce-b5a6-1e0b4545f4f7"
   },
   "outputs": [
    {
     "name": "stdout",
     "output_type": "stream",
     "text": [
      "Number of Samples in X_val: 4273\n",
      "4294    several probably killed shooting lazy police r...\n",
      "Name: headline, dtype: object\n",
      "[[2593, 356, 232, 197, 3812, 52, 7, 1289]]\n",
      "4294    1\n",
      "Name: is_sarcastic, dtype: int64\n"
     ]
    }
   ],
   "source": [
    "print(\"Number of Samples in X_val:\", len(X_val))       \n",
    "print(X_val[:1])\n",
    "print(X_val_seq[:1])\n",
    "print(y_val[:1])"
   ]
  },
  {
   "cell_type": "code",
   "execution_count": 26,
   "metadata": {
    "colab": {
     "base_uri": "https://localhost:8080/"
    },
    "id": "Xzx9y1T4oB9v",
    "outputId": "f72638f5-1049-48fb-f946-8296dc4be0cb"
   },
   "outputs": [
    {
     "name": "stdout",
     "output_type": "stream",
     "text": [
      "Found 20138 unique words.\n"
     ]
    }
   ],
   "source": [
    "print('Found %d unique words.' % len(feature_tokenizer.word_index))"
   ]
  },
  {
   "cell_type": "markdown",
   "metadata": {
    "id": "xeZpwPO4bOkZ"
   },
   "source": [
    "### Pad sequences (5 Marks)\n",
    "- Pad each example with a maximum length\n",
    "- Convert target column into numpy array"
   ]
  },
  {
   "cell_type": "code",
   "execution_count": 27,
   "metadata": {
    "id": "Z-RlEy0YoCBU"
   },
   "outputs": [],
   "source": [
    "X_train_pad = pad_sequences(X_train_seq, maxlen = maxlen, padding='post')\n",
    "X_val_pad = pad_sequences(X_val_seq, maxlen = maxlen, padding='post')\n",
    "X_test_pad = pad_sequences(X_test_seq, maxlen = maxlen, padding='post')"
   ]
  },
  {
   "cell_type": "code",
   "execution_count": 28,
   "metadata": {
    "colab": {
     "base_uri": "https://localhost:8080/"
    },
    "id": "sCgc-qjToCEy",
    "outputId": "0a2a2794-b88a-49bf-bc3f-6c12cd0d812a"
   },
   "outputs": [
    {
     "data": {
      "text/plain": [
       "((17092, 25), (5342, 25), (4273, 25))"
      ]
     },
     "execution_count": 28,
     "metadata": {
      "tags": []
     },
     "output_type": "execute_result"
    }
   ],
   "source": [
    "X_train_pad.shape, X_test_pad.shape, X_val_pad.shape"
   ]
  },
  {
   "cell_type": "code",
   "execution_count": 29,
   "metadata": {
    "colab": {
     "base_uri": "https://localhost:8080/"
    },
    "id": "0k4MaanFoCH7",
    "outputId": "0ca2f900-7b30-491d-a726-ff0fbefb7992"
   },
   "outputs": [
    {
     "data": {
      "text/plain": [
       "((17092,), (5342,), (4273,))"
      ]
     },
     "execution_count": 29,
     "metadata": {
      "tags": []
     },
     "output_type": "execute_result"
    }
   ],
   "source": [
    "y_train.shape, y_test.shape, y_val.shape"
   ]
  },
  {
   "cell_type": "code",
   "execution_count": 30,
   "metadata": {
    "colab": {
     "base_uri": "https://localhost:8080/"
    },
    "id": "zmUQTXivoBwK",
    "outputId": "970db119-b866-4380-df1f-e2f3b5628215"
   },
   "outputs": [
    {
     "name": "stdout",
     "output_type": "stream",
     "text": [
      "[[ 628    3    5 3598   13  805 4111    0    0    0    0    0    0    0\n",
      "     0    0    0    0    0    0    0    0    0    0    0]]\n",
      "21211    chinese new year boom time fake girlfriends\n",
      "Name: headline, dtype: object\n",
      "21211    0\n",
      "Name: is_sarcastic, dtype: int64\n"
     ]
    }
   ],
   "source": [
    "print(X_train_pad[1:2])\n",
    "print(X_train[1:2])\n",
    "print(y_train[1:2])"
   ]
  },
  {
   "cell_type": "markdown",
   "metadata": {
    "id": "WJLyKg-98rH_"
   },
   "source": [
    "### Vocab mapping\n",
    "- There is no word for 0th index"
   ]
  },
  {
   "cell_type": "code",
   "execution_count": 31,
   "metadata": {
    "colab": {
     "base_uri": "https://localhost:8080/"
    },
    "id": "YXKc3YV2oBtP",
    "outputId": "36eb5bf5-6cef-4fa4-b6eb-d8af3718dec2"
   },
   "outputs": [
    {
     "data": {
      "text/plain": [
       "{True: 1,\n",
       " 'trump': 2,\n",
       " 'new': 3,\n",
       " 'man': 4,\n",
       " 'year': 5,\n",
       " 'one': 6,\n",
       " 'report': 7,\n",
       " 'area': 8,\n",
       " 'u': 9,\n",
       " 'woman': 10,\n",
       " 'donald': 11,\n",
       " 'day': 12,\n",
       " 'time': 13,\n",
       " 'says': 14,\n",
       " 'first': 15,\n",
       " 'women': 16,\n",
       " 'get': 17,\n",
       " 'like': 18,\n",
       " 'obama': 19,\n",
       " 'old': 20,\n",
       " 'people': 21,\n",
       " 'world': 22,\n",
       " 'life': 23,\n",
       " 'house': 24,\n",
       " 'nation': 25,\n",
       " 'clinton': 26,\n",
       " 'still': 27,\n",
       " 'back': 28,\n",
       " 'make': 29,\n",
       " 'white': 30,\n",
       " 'could': 31,\n",
       " 'family': 32,\n",
       " 'way': 33,\n",
       " 'study': 34,\n",
       " 'americans': 35,\n",
       " 'black': 36,\n",
       " 'gop': 37,\n",
       " 'would': 38,\n",
       " 'show': 39,\n",
       " 'school': 40,\n",
       " 'death': 41,\n",
       " 'watch': 42,\n",
       " 'president': 43,\n",
       " 'years': 44,\n",
       " 'know': 45,\n",
       " 'american': 46,\n",
       " 'last': 47,\n",
       " 'home': 48,\n",
       " 'best': 49,\n",
       " 'good': 50,\n",
       " 'bill': 51,\n",
       " 'police': 52,\n",
       " 'mom': 53,\n",
       " 'going': 54,\n",
       " 'america': 55,\n",
       " 'really': 56,\n",
       " 'hillary': 57,\n",
       " 'things': 58,\n",
       " 'say': 59,\n",
       " 'state': 60,\n",
       " 'party': 61,\n",
       " 'finds': 62,\n",
       " 'every': 63,\n",
       " 'need': 64,\n",
       " 'take': 65,\n",
       " 'love': 66,\n",
       " 'kids': 67,\n",
       " 'may': 68,\n",
       " 'parents': 69,\n",
       " 'getting': 70,\n",
       " 'health': 71,\n",
       " 'big': 72,\n",
       " 'video': 73,\n",
       " 'court': 74,\n",
       " 'child': 75,\n",
       " 'right': 76,\n",
       " 'even': 77,\n",
       " 'little': 78,\n",
       " 'real': 79,\n",
       " 'stop': 80,\n",
       " 'dead': 81,\n",
       " 'gets': 82,\n",
       " 'makes': 83,\n",
       " 'work': 84,\n",
       " 'go': 85,\n",
       " 'john': 86,\n",
       " 'gay': 87,\n",
       " 'self': 88,\n",
       " 'change': 89,\n",
       " 'news': 90,\n",
       " 'calls': 91,\n",
       " 'never': 92,\n",
       " 'guy': 93,\n",
       " 'week': 94,\n",
       " 'star': 95,\n",
       " 'see': 96,\n",
       " 'look': 97,\n",
       " 'next': 98,\n",
       " 'election': 99,\n",
       " 'campaign': 100,\n",
       " 'war': 101,\n",
       " 'takes': 102,\n",
       " 'made': 103,\n",
       " 'high': 104,\n",
       " 'dad': 105,\n",
       " 'night': 106,\n",
       " 'bush': 107,\n",
       " 'got': 108,\n",
       " 'million': 109,\n",
       " 'baby': 110,\n",
       " 'local': 111,\n",
       " 'sex': 112,\n",
       " 'dog': 113,\n",
       " 'want': 114,\n",
       " 'live': 115,\n",
       " 'college': 116,\n",
       " 'gun': 117,\n",
       " 'office': 118,\n",
       " 'anti': 119,\n",
       " 'game': 120,\n",
       " 'wants': 121,\n",
       " 'much': 122,\n",
       " 'us': 123,\n",
       " 'bad': 124,\n",
       " 'plan': 125,\n",
       " 'better': 126,\n",
       " 'thing': 127,\n",
       " 'actually': 128,\n",
       " 'job': 129,\n",
       " 'debate': 130,\n",
       " 'help': 131,\n",
       " 'another': 132,\n",
       " 'two': 133,\n",
       " 'story': 134,\n",
       " 'ways': 135,\n",
       " 'congress': 136,\n",
       " 'season': 137,\n",
       " 'care': 138,\n",
       " 'couple': 139,\n",
       " 'national': 140,\n",
       " 'north': 141,\n",
       " 'media': 142,\n",
       " 'making': 143,\n",
       " 'finally': 144,\n",
       " 'children': 145,\n",
       " 'long': 146,\n",
       " 'give': 147,\n",
       " 'son': 148,\n",
       " 'everyone': 149,\n",
       " 'around': 150,\n",
       " 'reveals': 151,\n",
       " 'god': 152,\n",
       " 'trying': 153,\n",
       " 'shows': 154,\n",
       " 'food': 155,\n",
       " 'ever': 156,\n",
       " 'face': 157,\n",
       " 'law': 158,\n",
       " 'government': 159,\n",
       " 'introduces': 160,\n",
       " 'found': 161,\n",
       " 'city': 162,\n",
       " 'climate': 163,\n",
       " 'movie': 164,\n",
       " 'let': 165,\n",
       " 'body': 166,\n",
       " 'men': 167,\n",
       " 'supreme': 168,\n",
       " 'away': 169,\n",
       " 'friends': 170,\n",
       " 'single': 171,\n",
       " 'tv': 172,\n",
       " 'find': 173,\n",
       " 'deal': 174,\n",
       " 'fight': 175,\n",
       " 'girl': 176,\n",
       " 'pope': 177,\n",
       " 'money': 178,\n",
       " 'talk': 179,\n",
       " 'enough': 180,\n",
       " 'part': 181,\n",
       " 'company': 182,\n",
       " 'top': 183,\n",
       " 'students': 184,\n",
       " 'teen': 185,\n",
       " 'friend': 186,\n",
       " 'entire': 187,\n",
       " 'facebook': 188,\n",
       " 'republican': 189,\n",
       " 'middle': 190,\n",
       " 'business': 191,\n",
       " 'think': 192,\n",
       " 'christmas': 193,\n",
       " 'without': 194,\n",
       " 'great': 195,\n",
       " 'coming': 196,\n",
       " 'shooting': 197,\n",
       " 'mother': 198,\n",
       " 'senate': 199,\n",
       " 'speech': 200,\n",
       " 'line': 201,\n",
       " 'sanders': 202,\n",
       " 'announces': 203,\n",
       " 'public': 204,\n",
       " 'film': 205,\n",
       " 'presidential': 206,\n",
       " 'tell': 207,\n",
       " 'must': 208,\n",
       " 'call': 209,\n",
       " 'history': 210,\n",
       " 'free': 211,\n",
       " 'keep': 212,\n",
       " 'morning': 213,\n",
       " 'looking': 214,\n",
       " 'boy': 215,\n",
       " 'use': 216,\n",
       " 'sexual': 217,\n",
       " 'vote': 218,\n",
       " 'group': 219,\n",
       " 'paul': 220,\n",
       " 'end': 221,\n",
       " 'attack': 222,\n",
       " 'case': 223,\n",
       " 'york': 224,\n",
       " 'book': 225,\n",
       " 'future': 226,\n",
       " 'fire': 227,\n",
       " 'second': 228,\n",
       " 'might': 229,\n",
       " 'security': 230,\n",
       " 'support': 231,\n",
       " 'killed': 232,\n",
       " 'race': 233,\n",
       " 'country': 234,\n",
       " 'power': 235,\n",
       " 'father': 236,\n",
       " 'already': 237,\n",
       " 'voters': 238,\n",
       " 'former': 239,\n",
       " 'today': 240,\n",
       " 'many': 241,\n",
       " 'control': 242,\n",
       " 'email': 243,\n",
       " 'win': 244,\n",
       " 'behind': 245,\n",
       " 'tax': 246,\n",
       " 'secret': 247,\n",
       " 'goes': 248,\n",
       " 'james': 249,\n",
       " 'marriage': 250,\n",
       " 'come': 251,\n",
       " 'biden': 252,\n",
       " 'car': 253,\n",
       " 'three': 254,\n",
       " 'open': 255,\n",
       " 'republicans': 256,\n",
       " 'needs': 257,\n",
       " 'bernie': 258,\n",
       " 'releases': 259,\n",
       " 'political': 260,\n",
       " 'violence': 261,\n",
       " 'wife': 262,\n",
       " 'post': 263,\n",
       " 'minutes': 264,\n",
       " 'fans': 265,\n",
       " 'something': 266,\n",
       " 'heart': 267,\n",
       " 'super': 268,\n",
       " 'thinks': 269,\n",
       " 'justice': 270,\n",
       " 'wedding': 271,\n",
       " 'pretty': 272,\n",
       " 'teacher': 273,\n",
       " 'music': 274,\n",
       " 'sure': 275,\n",
       " 'candidate': 276,\n",
       " 'democrats': 277,\n",
       " 'king': 278,\n",
       " 'th': 279,\n",
       " 'meet': 280,\n",
       " 'art': 281,\n",
       " 'run': 282,\n",
       " 'name': 283,\n",
       " 'times': 284,\n",
       " 'photos': 285,\n",
       " 'student': 286,\n",
       " 'always': 287,\n",
       " 'human': 288,\n",
       " 'ad': 289,\n",
       " 'secretary': 290,\n",
       " 'inside': 291,\n",
       " 'ban': 292,\n",
       " 'judge': 293,\n",
       " 'twitter': 294,\n",
       " 'iran': 295,\n",
       " 'scientists': 296,\n",
       " 'asks': 297,\n",
       " 'living': 298,\n",
       " 'person': 299,\n",
       " 'rights': 300,\n",
       " 'summer': 301,\n",
       " 'record': 302,\n",
       " 'pay': 303,\n",
       " 'team': 304,\n",
       " 'department': 305,\n",
       " 'word': 306,\n",
       " 'claims': 307,\n",
       " 'california': 308,\n",
       " 'wall': 309,\n",
       " 'photo': 310,\n",
       " 'full': 311,\n",
       " 'korea': 312,\n",
       " 'social': 313,\n",
       " 'perfect': 314,\n",
       " 'states': 315,\n",
       " 'breaking': 316,\n",
       " 'girls': 317,\n",
       " 'head': 318,\n",
       " 'running': 319,\n",
       " 'put': 320,\n",
       " 'red': 321,\n",
       " 'mike': 322,\n",
       " 'missing': 323,\n",
       " 'month': 324,\n",
       " 'taking': 325,\n",
       " 'ready': 326,\n",
       " 'someone': 327,\n",
       " 'lost': 328,\n",
       " 'percent': 329,\n",
       " 'save': 330,\n",
       " 'employee': 331,\n",
       " 'ceo': 332,\n",
       " 'thought': 333,\n",
       " 'talks': 334,\n",
       " 'room': 335,\n",
       " 'hours': 336,\n",
       " 'tells': 337,\n",
       " 'warns': 338,\n",
       " 'unveils': 339,\n",
       " 'south': 340,\n",
       " 'drug': 341,\n",
       " 'idea': 342,\n",
       " 'leaves': 343,\n",
       " 'list': 344,\n",
       " 'michael': 345,\n",
       " 'female': 346,\n",
       " 'kim': 347,\n",
       " 'forced': 348,\n",
       " 'eating': 349,\n",
       " 'ryan': 350,\n",
       " 'wins': 351,\n",
       " 'months': 352,\n",
       " 'half': 353,\n",
       " 'kill': 354,\n",
       " 'hard': 355,\n",
       " 'probably': 356,\n",
       " 'lives': 357,\n",
       " 'wrong': 358,\n",
       " 'hot': 359,\n",
       " 'shot': 360,\n",
       " 'young': 361,\n",
       " 'poll': 362,\n",
       " 'age': 363,\n",
       " 'read': 364,\n",
       " 'russia': 365,\n",
       " 'lot': 366,\n",
       " 'george': 367,\n",
       " 'believe': 368,\n",
       " 'everything': 369,\n",
       " 'feel': 370,\n",
       " 'third': 371,\n",
       " 'class': 372,\n",
       " 'director': 373,\n",
       " 'service': 374,\n",
       " 'reports': 375,\n",
       " 'daughter': 376,\n",
       " 'days': 377,\n",
       " 'street': 378,\n",
       " 'set': 379,\n",
       " 'left': 380,\n",
       " 'small': 381,\n",
       " 'military': 382,\n",
       " 'romney': 383,\n",
       " 'together': 384,\n",
       " 'chief': 385,\n",
       " 'air': 386,\n",
       " 'pence': 387,\n",
       " 'used': 388,\n",
       " 'nothing': 389,\n",
       " 'china': 390,\n",
       " 'administration': 391,\n",
       " 'ex': 392,\n",
       " 'texas': 393,\n",
       " 'yet': 394,\n",
       " 'fbi': 395,\n",
       " 'tweets': 396,\n",
       " 'online': 397,\n",
       " 'working': 398,\n",
       " 'past': 399,\n",
       " 'owner': 400,\n",
       " 'plans': 401,\n",
       " 'internet': 402,\n",
       " 'comes': 403,\n",
       " 'education': 404,\n",
       " 'obamacare': 405,\n",
       " 'town': 406,\n",
       " 'tips': 407,\n",
       " 'girlfriend': 408,\n",
       " 'congressman': 409,\n",
       " 'florida': 410,\n",
       " 'holiday': 411,\n",
       " 'place': 412,\n",
       " 'personal': 413,\n",
       " 'cat': 414,\n",
       " 'order': 415,\n",
       " 'muslim': 416,\n",
       " 'dies': 417,\n",
       " 'move': 418,\n",
       " 'chris': 419,\n",
       " 'earth': 420,\n",
       " 'cancer': 421,\n",
       " 'cruz': 422,\n",
       " 'isis': 423,\n",
       " 'hollywood': 424,\n",
       " 'march': 425,\n",
       " 'attacks': 426,\n",
       " 'crisis': 427,\n",
       " 'fucking': 428,\n",
       " 'queer': 429,\n",
       " 'stars': 430,\n",
       " 'al': 431,\n",
       " 'huffpost': 432,\n",
       " 'phone': 433,\n",
       " 'rules': 434,\n",
       " 'nuclear': 435,\n",
       " 'waiting': 436,\n",
       " 'buy': 437,\n",
       " 'problem': 438,\n",
       " 'looks': 439,\n",
       " 'shit': 440,\n",
       " 'start': 441,\n",
       " 'happy': 442,\n",
       " 'immigration': 443,\n",
       " 'birthday': 444,\n",
       " 'admits': 445,\n",
       " 'coworker': 446,\n",
       " 'drunk': 447,\n",
       " 'ask': 448,\n",
       " 'late': 449,\n",
       " 'rock': 450,\n",
       " 'ice': 451,\n",
       " 'democratic': 452,\n",
       " 'outside': 453,\n",
       " 'fan': 454,\n",
       " 'letter': 455,\n",
       " 'majority': 456,\n",
       " 'less': 457,\n",
       " 'questions': 458,\n",
       " 'community': 459,\n",
       " 'words': 460,\n",
       " 'hit': 461,\n",
       " 'restaurant': 462,\n",
       " 'global': 463,\n",
       " 'watching': 464,\n",
       " 'minute': 465,\n",
       " 'hair': 466,\n",
       " 'box': 467,\n",
       " 'gives': 468,\n",
       " 'thousands': 469,\n",
       " 'sleep': 470,\n",
       " 'dream': 471,\n",
       " 'kid': 472,\n",
       " 'called': 473,\n",
       " 'reasons': 474,\n",
       " 'meeting': 475,\n",
       " 'francis': 476,\n",
       " 'prison': 477,\n",
       " 'favorite': 478,\n",
       " 'excited': 479,\n",
       " 'wearing': 480,\n",
       " 'officials': 481,\n",
       " 'straight': 482,\n",
       " 'adorable': 483,\n",
       " 'series': 484,\n",
       " 'different': 485,\n",
       " 'washington': 486,\n",
       " 'ted': 487,\n",
       " 'become': 488,\n",
       " 'non': 489,\n",
       " 'apple': 490,\n",
       " 'special': 491,\n",
       " 'fox': 492,\n",
       " 'union': 493,\n",
       " 'response': 494,\n",
       " 'water': 495,\n",
       " 'cop': 496,\n",
       " 'message': 497,\n",
       " 'talking': 498,\n",
       " 'die': 499,\n",
       " 'hour': 500,\n",
       " 'protest': 501,\n",
       " 'reality': 502,\n",
       " 'issues': 503,\n",
       " 'beautiful': 504,\n",
       " 'david': 505,\n",
       " 'whole': 506,\n",
       " 'guide': 507,\n",
       " 'tom': 508,\n",
       " 'jimmy': 509,\n",
       " 'names': 510,\n",
       " 'conversation': 511,\n",
       " 'store': 512,\n",
       " 'feels': 513,\n",
       " 'wars': 514,\n",
       " 'un': 515,\n",
       " 'st': 516,\n",
       " 'mark': 517,\n",
       " 'joe': 518,\n",
       " 'interview': 519,\n",
       " 'latest': 520,\n",
       " 'k': 521,\n",
       " 'trans': 522,\n",
       " 'trip': 523,\n",
       " 'huge': 524,\n",
       " 'assault': 525,\n",
       " 'lessons': 526,\n",
       " 'well': 527,\n",
       " 'relationship': 528,\n",
       " 'trailer': 529,\n",
       " 'stage': 530,\n",
       " 'rise': 531,\n",
       " 'low': 532,\n",
       " 'giving': 533,\n",
       " 'totally': 534,\n",
       " 'moment': 535,\n",
       " 'told': 536,\n",
       " 'weird': 537,\n",
       " 'users': 538,\n",
       " 'syria': 539,\n",
       " 'knows': 540,\n",
       " 'learned': 541,\n",
       " 'celebrates': 542,\n",
       " 'date': 543,\n",
       " 'millions': 544,\n",
       " 'iraq': 545,\n",
       " 'abortion': 546,\n",
       " 'gift': 547,\n",
       " 'signs': 548,\n",
       " 'system': 549,\n",
       " 'seen': 550,\n",
       " 'investigation': 551,\n",
       " 'since': 552,\n",
       " 'scott': 553,\n",
       " 'russian': 554,\n",
       " 'victims': 555,\n",
       " 'rubio': 556,\n",
       " 'leaders': 557,\n",
       " 'least': 558,\n",
       " 'risk': 559,\n",
       " 'opens': 560,\n",
       " 'cops': 561,\n",
       " 'prince': 562,\n",
       " 'lead': 563,\n",
       " 'following': 564,\n",
       " 'sports': 565,\n",
       " 'mass': 566,\n",
       " 'powerful': 567,\n",
       " 'kardashian': 568,\n",
       " 'visit': 569,\n",
       " 'taylor': 570,\n",
       " 'federal': 571,\n",
       " 'fashion': 572,\n",
       " 'employees': 573,\n",
       " 'cover': 574,\n",
       " 'united': 575,\n",
       " 'travel': 576,\n",
       " 'decision': 577,\n",
       " 'early': 578,\n",
       " 'host': 579,\n",
       " 'biggest': 580,\n",
       " 'dating': 581,\n",
       " 'key': 582,\n",
       " 'politics': 583,\n",
       " 'ferguson': 584,\n",
       " 'moving': 585,\n",
       " 'bring': 586,\n",
       " 'homeless': 587,\n",
       " 'dinner': 588,\n",
       " 'front': 589,\n",
       " 'lgbt': 590,\n",
       " 'cut': 591,\n",
       " 'billion': 592,\n",
       " 'play': 593,\n",
       " 'far': 594,\n",
       " 'crash': 595,\n",
       " 'turns': 596,\n",
       " 'reason': 597,\n",
       " 'industry': 598,\n",
       " 'style': 599,\n",
       " 'turn': 600,\n",
       " 'murder': 601,\n",
       " 'vows': 602,\n",
       " 'kind': 603,\n",
       " 'audience': 604,\n",
       " 'weekend': 605,\n",
       " 'cnn': 606,\n",
       " 'magazine': 607,\n",
       " 'candidates': 608,\n",
       " 'break': 609,\n",
       " 'easy': 610,\n",
       " 'senator': 611,\n",
       " 'massive': 612,\n",
       " 'leader': 613,\n",
       " 'thinking': 614,\n",
       " 'fighting': 615,\n",
       " 'experience': 616,\n",
       " 'netflix': 617,\n",
       " 'hope': 618,\n",
       " 'jenner': 619,\n",
       " 'song': 620,\n",
       " 'bar': 621,\n",
       " 'urges': 622,\n",
       " 'hand': 623,\n",
       " 'fall': 624,\n",
       " 'mind': 625,\n",
       " 'oscar': 626,\n",
       " 'syrian': 627,\n",
       " 'chinese': 628,\n",
       " 'address': 629,\n",
       " 'beauty': 630,\n",
       " 'poor': 631,\n",
       " 'final': 632,\n",
       " 'lose': 633,\n",
       " 'breaks': 634,\n",
       " 'jr': 635,\n",
       " 'reportedly': 636,\n",
       " 'given': 637,\n",
       " 'table': 638,\n",
       " 'major': 639,\n",
       " 'push': 640,\n",
       " 'amazon': 641,\n",
       " 'killing': 642,\n",
       " 'c': 643,\n",
       " 'center': 644,\n",
       " 'using': 645,\n",
       " 'members': 646,\n",
       " 'governor': 647,\n",
       " 'planned': 648,\n",
       " 'elizabeth': 649,\n",
       " 'worst': 650,\n",
       " 'worth': 651,\n",
       " 'side': 652,\n",
       " 'reporter': 653,\n",
       " 'science': 654,\n",
       " 'nfl': 655,\n",
       " 'reform': 656,\n",
       " 'oil': 657,\n",
       " 'moms': 658,\n",
       " 'accused': 659,\n",
       " 'leave': 660,\n",
       " 'abuse': 661,\n",
       " 'fuck': 662,\n",
       " 'birth': 663,\n",
       " 'general': 664,\n",
       " 'economy': 665,\n",
       " 'executive': 666,\n",
       " 'spends': 667,\n",
       " 'male': 668,\n",
       " 'feeling': 669,\n",
       " 'number': 670,\n",
       " 'likely': 671,\n",
       " 'program': 672,\n",
       " 'fun': 673,\n",
       " 'possible': 674,\n",
       " 'dance': 675,\n",
       " 'anything': 676,\n",
       " 'defense': 677,\n",
       " 'career': 678,\n",
       " 'advice': 679,\n",
       " 'healthy': 680,\n",
       " 'almost': 681,\n",
       " 'ideas': 682,\n",
       " 'hall': 683,\n",
       " 'robert': 684,\n",
       " 'prevent': 685,\n",
       " 'friday': 686,\n",
       " 'teens': 687,\n",
       " 'discover': 688,\n",
       " 'google': 689,\n",
       " 'results': 690,\n",
       " 'quietly': 691,\n",
       " 'hate': 692,\n",
       " 'whether': 693,\n",
       " 'went': 694,\n",
       " 'success': 695,\n",
       " 'try': 696,\n",
       " 'eat': 697,\n",
       " 'asking': 698,\n",
       " 'n': 699,\n",
       " 'act': 700,\n",
       " 'anniversary': 701,\n",
       " 'driving': 702,\n",
       " 'remember': 703,\n",
       " 'mayor': 704,\n",
       " 'official': 705,\n",
       " 'offers': 706,\n",
       " 'harry': 707,\n",
       " 'religious': 708,\n",
       " 'true': 709,\n",
       " 'surprise': 710,\n",
       " 'harassment': 711,\n",
       " 'bear': 712,\n",
       " 'clearly': 713,\n",
       " 'hoping': 714,\n",
       " 'sick': 715,\n",
       " 'chicago': 716,\n",
       " 'west': 717,\n",
       " 'brings': 718,\n",
       " 'happens': 719,\n",
       " 'returns': 720,\n",
       " 'celebrate': 721,\n",
       " 'schools': 722,\n",
       " 'spot': 723,\n",
       " 'completely': 724,\n",
       " 'hear': 725,\n",
       " 'pregnant': 726,\n",
       " 'light': 727,\n",
       " 'pro': 728,\n",
       " 'soon': 729,\n",
       " 'halloween': 730,\n",
       " 'stephen': 731,\n",
       " 'truth': 732,\n",
       " 'williams': 733,\n",
       " 'puts': 734,\n",
       " 'awards': 735,\n",
       " 'bank': 736,\n",
       " 'museum': 737,\n",
       " 'data': 738,\n",
       " 'close': 739,\n",
       " 'stand': 740,\n",
       " 'walking': 741,\n",
       " 'door': 742,\n",
       " 'queen': 743,\n",
       " 'workers': 744,\n",
       " 'voter': 745,\n",
       " 'snl': 746,\n",
       " 'paris': 747,\n",
       " 'uses': 748,\n",
       " 'sign': 749,\n",
       " 'j': 750,\n",
       " 'driver': 751,\n",
       " 'hits': 752,\n",
       " 'suspect': 753,\n",
       " 'bowl': 754,\n",
       " 'winter': 755,\n",
       " 'cool': 756,\n",
       " 'mccain': 757,\n",
       " 'press': 758,\n",
       " 'families': 759,\n",
       " 'struggling': 760,\n",
       " 'colbert': 761,\n",
       " 'five': 762,\n",
       " 'worried': 763,\n",
       " 'moore': 764,\n",
       " 'hurricane': 765,\n",
       " 'michelle': 766,\n",
       " 'fired': 767,\n",
       " 'test': 768,\n",
       " 'kills': 769,\n",
       " 'iowa': 770,\n",
       " 'important': 771,\n",
       " 'epa': 772,\n",
       " 'nearly': 773,\n",
       " 'short': 774,\n",
       " 'youth': 775,\n",
       " 'across': 776,\n",
       " 'amazing': 777,\n",
       " 'emotional': 778,\n",
       " 'force': 779,\n",
       " 'refugees': 780,\n",
       " 'swift': 781,\n",
       " 'vacation': 782,\n",
       " 'loses': 783,\n",
       " 'question': 784,\n",
       " 'shop': 785,\n",
       " 'policy': 786,\n",
       " 'ben': 787,\n",
       " 'apartment': 788,\n",
       " 'pick': 789,\n",
       " 'racist': 790,\n",
       " 'band': 791,\n",
       " 'coffee': 792,\n",
       " 'sales': 793,\n",
       " 'husband': 794,\n",
       " 'leaving': 795,\n",
       " 'bob': 796,\n",
       " 'rally': 797,\n",
       " 'marijuana': 798,\n",
       " 'israel': 799,\n",
       " 'return': 800,\n",
       " 'border': 801,\n",
       " 'brown': 802,\n",
       " 'chicken': 803,\n",
       " 'weight': 804,\n",
       " 'fake': 805,\n",
       " 'fear': 806,\n",
       " 'reveal': 807,\n",
       " 'oscars': 808,\n",
       " 'hands': 809,\n",
       " 'hearing': 810,\n",
       " 'culture': 811,\n",
       " 'sound': 812,\n",
       " 'grandma': 813,\n",
       " 'supporters': 814,\n",
       " 'martin': 815,\n",
       " 'perfectly': 816,\n",
       " 'episode': 817,\n",
       " 'jobs': 818,\n",
       " 'suicide': 819,\n",
       " 'near': 820,\n",
       " 'apologizes': 821,\n",
       " 'stunning': 822,\n",
       " 'bird': 823,\n",
       " 'manager': 824,\n",
       " 'doctor': 825,\n",
       " 'hospital': 826,\n",
       " 'bus': 827,\n",
       " 'worse': 828,\n",
       " 'walk': 829,\n",
       " 'hell': 830,\n",
       " 'documentary': 831,\n",
       " 'allegations': 832,\n",
       " 'learn': 833,\n",
       " 'nyc': 834,\n",
       " 'desperate': 835,\n",
       " 'transgender': 836,\n",
       " 'suggests': 837,\n",
       " 'kelly': 838,\n",
       " 'deep': 839,\n",
       " 'commercial': 840,\n",
       " 'longer': 841,\n",
       " 'carolina': 842,\n",
       " 'starting': 843,\n",
       " 'e': 844,\n",
       " 'keeps': 845,\n",
       " 'point': 846,\n",
       " 'card': 847,\n",
       " 'album': 848,\n",
       " 'christian': 849,\n",
       " 'steve': 850,\n",
       " 'dark': 851,\n",
       " 'throws': 852,\n",
       " 'eyes': 853,\n",
       " 'tweet': 854,\n",
       " 'issue': 855,\n",
       " 'lets': 856,\n",
       " 'review': 857,\n",
       " 'airport': 858,\n",
       " 'spend': 859,\n",
       " 'wait': 860,\n",
       " 'arrested': 861,\n",
       " 'royal': 862,\n",
       " 'speak': 863,\n",
       " 'movies': 864,\n",
       " 'football': 865,\n",
       " 'nra': 866,\n",
       " 'protesters': 867,\n",
       " 'sean': 868,\n",
       " 'fast': 869,\n",
       " 'energy': 870,\n",
       " 'protect': 871,\n",
       " 'adds': 872,\n",
       " 'labor': 873,\n",
       " 'gold': 874,\n",
       " 'wondering': 875,\n",
       " 'blood': 876,\n",
       " 'board': 877,\n",
       " 'skin': 878,\n",
       " 'artist': 879,\n",
       " 'staff': 880,\n",
       " 'space': 881,\n",
       " 'wishes': 882,\n",
       " 'dress': 883,\n",
       " 'university': 884,\n",
       " 'nice': 885,\n",
       " 'boss': 886,\n",
       " 'happened': 887,\n",
       " 'beer': 888,\n",
       " 'building': 889,\n",
       " 'ebola': 890,\n",
       " 'picture': 891,\n",
       " 'rape': 892,\n",
       " 'train': 893,\n",
       " 'private': 894,\n",
       " 'evidence': 895,\n",
       " 'dying': 896,\n",
       " 'eric': 897,\n",
       " 'park': 898,\n",
       " 'worker': 899,\n",
       " 'eye': 900,\n",
       " 'begins': 901,\n",
       " 'residents': 902,\n",
       " 'mean': 903,\n",
       " 'deadly': 904,\n",
       " 'steps': 905,\n",
       " 'puerto': 906,\n",
       " 'blue': 907,\n",
       " 'market': 908,\n",
       " 'probe': 909,\n",
       " 'six': 910,\n",
       " 'hilarious': 911,\n",
       " 'performance': 912,\n",
       " 'spring': 913,\n",
       " 'pizza': 914,\n",
       " 'track': 915,\n",
       " 'action': 916,\n",
       " 'shares': 917,\n",
       " 'demands': 918,\n",
       " 'era': 919,\n",
       " 'tree': 920,\n",
       " 'wish': 921,\n",
       " 'realizes': 922,\n",
       " 'voice': 923,\n",
       " 'avoid': 924,\n",
       " 'actor': 925,\n",
       " 'explains': 926,\n",
       " 'sad': 927,\n",
       " 'telling': 928,\n",
       " 'fda': 929,\n",
       " 'crime': 930,\n",
       " 'boys': 931,\n",
       " 'anyone': 932,\n",
       " 'east': 933,\n",
       " 'hero': 934,\n",
       " 'turkey': 935,\n",
       " 'officer': 936,\n",
       " 'older': 937,\n",
       " 'website': 938,\n",
       " 'threat': 939,\n",
       " 'flight': 940,\n",
       " 'problems': 941,\n",
       " 'books': 942,\n",
       " 'church': 943,\n",
       " 'amid': 944,\n",
       " 'comey': 945,\n",
       " 'holding': 946,\n",
       " 'budget': 947,\n",
       " 'learning': 948,\n",
       " 'bed': 949,\n",
       " 'foreign': 950,\n",
       " 'funding': 951,\n",
       " 'grandmother': 952,\n",
       " 'launch': 953,\n",
       " 'fails': 954,\n",
       " 'lady': 955,\n",
       " 'attempt': 956,\n",
       " 'finding': 957,\n",
       " 'forward': 958,\n",
       " 'reading': 959,\n",
       " 'green': 960,\n",
       " 'boyfriend': 961,\n",
       " 'kerry': 962,\n",
       " 'done': 963,\n",
       " 'recalls': 964,\n",
       " 'target': 965,\n",
       " 'growing': 966,\n",
       " 'comments': 967,\n",
       " 'movement': 968,\n",
       " 'course': 969,\n",
       " 'olympic': 970,\n",
       " 'sea': 971,\n",
       " 'warren': 972,\n",
       " 'divorce': 973,\n",
       " 'voting': 974,\n",
       " 'floor': 975,\n",
       " 'demand': 976,\n",
       " 'retirement': 977,\n",
       " 'peace': 978,\n",
       " 'rest': 979,\n",
       " 'responds': 980,\n",
       " 'scandal': 981,\n",
       " 'congressional': 982,\n",
       " 'color': 983,\n",
       " 'fair': 984,\n",
       " 'taken': 985,\n",
       " 'historical': 986,\n",
       " 'experts': 987,\n",
       " 'role': 988,\n",
       " 'jones': 989,\n",
       " 'road': 990,\n",
       " 'matter': 991,\n",
       " 'loved': 992,\n",
       " 'faces': 993,\n",
       " 'changing': 994,\n",
       " 'cities': 995,\n",
       " 'aid': 996,\n",
       " 'apparently': 997,\n",
       " 'reminds': 998,\n",
       " 'award': 999,\n",
       " 'numbers': 1000,\n",
       " ...}"
      ]
     },
     "execution_count": 31,
     "metadata": {
      "tags": []
     },
     "output_type": "execute_result"
    }
   ],
   "source": [
    "feature_tokenizer.word_index"
   ]
  },
  {
   "cell_type": "markdown",
   "metadata": {
    "id": "VRiNX58Rb3oJ"
   },
   "source": [
    "### Set number of words\n",
    "- Since the above 0th index doesn't have a word, add 1 to the length of the vocabulary"
   ]
  },
  {
   "cell_type": "code",
   "execution_count": 32,
   "metadata": {
    "colab": {
     "base_uri": "https://localhost:8080/"
    },
    "id": "CeHUsGm6oBon",
    "outputId": "df23932c-5922-409b-bf00-82d1dd1d26f3"
   },
   "outputs": [
    {
     "name": "stdout",
     "output_type": "stream",
     "text": [
      "20139\n"
     ]
    }
   ],
   "source": [
    "num_words = len(feature_tokenizer.word_index) + 1\n",
    "print(num_words)"
   ]
  },
  {
   "cell_type": "markdown",
   "metadata": {
    "id": "bUF1TuQa8ux0"
   },
   "source": [
    "### Load Glove Word Embeddings (5 Marks)"
   ]
  },
  {
   "cell_type": "markdown",
   "metadata": {
    "id": "prHSzdQUcZhm"
   },
   "source": [
    "### Create embedding matrix"
   ]
  },
  {
   "cell_type": "code",
   "execution_count": 33,
   "metadata": {
    "id": "JZkxgQFkoBnQ"
   },
   "outputs": [],
   "source": [
    "EMBEDDING_FILE = 'glove.6B.200d.txt'\n",
    "\n",
    "embeddings = {}\n",
    "for o in open(EMBEDDING_FILE, encoding=\"utf8\"):\n",
    "    word = o.split(\" \")[0]\n",
    "    #print(word)\n",
    "    embd = o.split(\" \")[1:]\n",
    "    embd = np.asarray(embd, dtype='float32')\n",
    "    #print(embd)\n",
    "    embeddings[word] = embd\n",
    "\n",
    "# create a weight matrix for words in training docs\n",
    "embedding_matrix = np.zeros((num_words, 200))\n",
    "\n",
    "for word, i in feature_tokenizer.word_index.items():\n",
    "\tembedding_vector = embeddings.get(word)\n",
    "\tif embedding_vector is not None:\n",
    "\t\tembedding_matrix[i] = embedding_vector"
   ]
  },
  {
   "cell_type": "code",
   "execution_count": 34,
   "metadata": {
    "colab": {
     "base_uri": "https://localhost:8080/"
    },
    "id": "cKCcwA6ToBU3",
    "outputId": "557e1305-a90d-450c-b389-306abe7855dc"
   },
   "outputs": [
    {
     "name": "stdout",
     "output_type": "stream",
     "text": [
      "Found 400000 word vectors.\n"
     ]
    }
   ],
   "source": [
    "print('Found %s word vectors.' % len(embeddings))"
   ]
  },
  {
   "cell_type": "markdown",
   "metadata": {
    "id": "u7IbWuEX82Ra"
   },
   "source": [
    "### Define model (10 Marks)\n",
    "- Hint: Use Sequential model instance and then add Embedding layer, Bidirectional(LSTM) layer, flatten it, then dense and dropout layers as required. \n",
    "In the end add a final dense layer with sigmoid activation for binary classification."
   ]
  },
  {
   "cell_type": "code",
   "execution_count": 35,
   "metadata": {
    "id": "qV0K70E5c9Xl"
   },
   "outputs": [],
   "source": [
    "EPOCHS = 20\n",
    "BATCH_SIZE = 128\n",
    "threshold = 0.99"
   ]
  },
  {
   "cell_type": "code",
   "execution_count": 36,
   "metadata": {
    "colab": {
     "base_uri": "https://localhost:8080/"
    },
    "id": "vCNgtnQqdbZn",
    "outputId": "cea6207e-edc4-4d32-d2fe-44c054040fbe"
   },
   "outputs": [
    {
     "name": "stdout",
     "output_type": "stream",
     "text": [
      "WARNING:tensorflow:Layer lstm will not use cuDNN kernel since it doesn't meet the cuDNN kernel criteria. It will use generic GPU kernel as fallback when running on GPU\n",
      "WARNING:tensorflow:Layer lstm will not use cuDNN kernel since it doesn't meet the cuDNN kernel criteria. It will use generic GPU kernel as fallback when running on GPU\n",
      "WARNING:tensorflow:Layer lstm will not use cuDNN kernel since it doesn't meet the cuDNN kernel criteria. It will use generic GPU kernel as fallback when running on GPU\n",
      "WARNING:tensorflow:Layer lstm_1 will not use cuDNN kernel since it doesn't meet the cuDNN kernel criteria. It will use generic GPU kernel as fallback when running on GPU\n",
      "WARNING:tensorflow:Layer lstm_1 will not use cuDNN kernel since it doesn't meet the cuDNN kernel criteria. It will use generic GPU kernel as fallback when running on GPU\n",
      "WARNING:tensorflow:Layer lstm_1 will not use cuDNN kernel since it doesn't meet the cuDNN kernel criteria. It will use generic GPU kernel as fallback when running on GPU\n",
      "Model: \"sequential\"\n",
      "_________________________________________________________________\n",
      "Layer (type)                 Output Shape              Param #   \n",
      "=================================================================\n",
      "embedding (Embedding)        (None, 25, 200)           4027800   \n",
      "_________________________________________________________________\n",
      "bidirectional (Bidirectional (None, 25, 64)            59648     \n",
      "_________________________________________________________________\n",
      "bidirectional_1 (Bidirection (None, 128)               66048     \n",
      "_________________________________________________________________\n",
      "dropout (Dropout)            (None, 128)               0         \n",
      "_________________________________________________________________\n",
      "dense (Dense)                (None, 128)               16512     \n",
      "_________________________________________________________________\n",
      "flatten (Flatten)            (None, 128)               0         \n",
      "_________________________________________________________________\n",
      "dropout_1 (Dropout)          (None, 128)               0         \n",
      "_________________________________________________________________\n",
      "dense_1 (Dense)              (None, 1)                 129       \n",
      "=================================================================\n",
      "Total params: 4,170,137\n",
      "Trainable params: 4,170,137\n",
      "Non-trainable params: 0\n",
      "_________________________________________________________________\n"
     ]
    }
   ],
   "source": [
    "def lstm():\n",
    "    model = Sequential()\n",
    "    \n",
    "    model.add(Embedding(num_words,\n",
    "                        embedding_size,\n",
    "                        embeddings_initializer=Constant(embedding_matrix), \n",
    "                        input_length=maxlen,\n",
    "                        trainable=True))\n",
    "    \n",
    "    model.add(Bidirectional(LSTM(32, return_sequences=True, recurrent_dropout=0.1, dropout=0.1)))\n",
    "    model.add(Bidirectional(LSTM(64, recurrent_dropout=0.1, dropout=0.1)))\n",
    "    model.add(Dropout(0.2))\n",
    "    model.add(Dense(128, activation='relu'))\n",
    "    model.add(Flatten())\n",
    "    model.add(Dropout(0.2))\n",
    "    model.add(Dense(1, activation='sigmoid'))   \n",
    "    model.summary()\n",
    "    return model\n",
    "\n",
    "lsmod = lstm()"
   ]
  },
  {
   "cell_type": "markdown",
   "metadata": {
    "id": "xoI7_8Y1cqTj"
   },
   "source": [
    "### Compile the model (5 Marks)"
   ]
  },
  {
   "cell_type": "code",
   "execution_count": 37,
   "metadata": {
    "id": "Dfwq6ou8ck2f"
   },
   "outputs": [],
   "source": [
    "opt = Adam(learning_rate=0.001)\n",
    "lsmod.compile(loss='binary_crossentropy',\n",
    "              optimizer=opt,\n",
    "              metrics=['accuracy'])"
   ]
  },
  {
   "cell_type": "code",
   "execution_count": 38,
   "metadata": {
    "id": "vq5AIfRtMeZh"
   },
   "outputs": [],
   "source": [
    "class myCallback(tf.keras.callbacks.Callback):\n",
    "    def on_epoch_end(self, epoch, logs={}):\n",
    "        if logs.get('accuracy') > threshold:\n",
    "            self.model.stop_training = True\n",
    "            print(' \\n Terminating training as model reached ' + str(threshold * 100) + ' % accuracy \\n')\n",
    "\n",
    "callback_func = myCallback()"
   ]
  },
  {
   "cell_type": "markdown",
   "metadata": {
    "id": "7s4nmqcecw3a"
   },
   "source": [
    "### Fit the model (5 Marks)"
   ]
  },
  {
   "cell_type": "code",
   "execution_count": 39,
   "metadata": {
    "colab": {
     "base_uri": "https://localhost:8080/"
    },
    "id": "4tv168Gmc3PY",
    "outputId": "dfb733e4-ace1-4e8f-fbea-a120d05b7053"
   },
   "outputs": [
    {
     "name": "stdout",
     "output_type": "stream",
     "text": [
      "Epoch 1/20\n",
      "134/134 [==============================] - 54s 405ms/step - loss: 0.5390 - accuracy: 0.7203 - val_loss: 0.4560 - val_accuracy: 0.7882\n",
      "Epoch 2/20\n",
      "134/134 [==============================] - 54s 403ms/step - loss: 0.3617 - accuracy: 0.8407 - val_loss: 0.4153 - val_accuracy: 0.8109\n",
      "Epoch 3/20\n",
      "134/134 [==============================] - 54s 403ms/step - loss: 0.2628 - accuracy: 0.8863 - val_loss: 0.4349 - val_accuracy: 0.8137\n",
      "Epoch 4/20\n",
      "134/134 [==============================] - 53s 399ms/step - loss: 0.1917 - accuracy: 0.9237 - val_loss: 0.4855 - val_accuracy: 0.8074\n",
      "Epoch 5/20\n",
      "134/134 [==============================] - 53s 397ms/step - loss: 0.1391 - accuracy: 0.9476 - val_loss: 0.5530 - val_accuracy: 0.8182\n",
      "Epoch 6/20\n",
      "134/134 [==============================] - 53s 398ms/step - loss: 0.1092 - accuracy: 0.9598 - val_loss: 0.6026 - val_accuracy: 0.8100\n",
      "Epoch 7/20\n",
      "134/134 [==============================] - 53s 398ms/step - loss: 0.0780 - accuracy: 0.9718 - val_loss: 0.7556 - val_accuracy: 0.8168\n",
      "Epoch 8/20\n",
      "134/134 [==============================] - 53s 394ms/step - loss: 0.0630 - accuracy: 0.9772 - val_loss: 0.8154 - val_accuracy: 0.8060\n",
      "Epoch 9/20\n",
      "134/134 [==============================] - 53s 397ms/step - loss: 0.0480 - accuracy: 0.9824 - val_loss: 0.8524 - val_accuracy: 0.8067\n",
      "Epoch 10/20\n",
      "134/134 [==============================] - 53s 398ms/step - loss: 0.0428 - accuracy: 0.9836 - val_loss: 0.9106 - val_accuracy: 0.8142\n",
      "Epoch 11/20\n",
      "134/134 [==============================] - 53s 393ms/step - loss: 0.0377 - accuracy: 0.9863 - val_loss: 1.1053 - val_accuracy: 0.8048\n",
      "Epoch 12/20\n",
      "134/134 [==============================] - 54s 406ms/step - loss: 0.0270 - accuracy: 0.9899 - val_loss: 1.2102 - val_accuracy: 0.8053\n",
      "Epoch 13/20\n",
      "134/134 [==============================] - ETA: 0s - loss: 0.0213 - accuracy: 0.9929 \n",
      " Terminating training as model reached 99.0 % accuracy \n",
      "\n",
      "134/134 [==============================] - 53s 397ms/step - loss: 0.0213 - accuracy: 0.9929 - val_loss: 1.2008 - val_accuracy: 0.8083\n"
     ]
    }
   ],
   "source": [
    "lshist = lsmod.fit(X_train_pad, y_train,\n",
    "         epochs = EPOCHS,\n",
    "         batch_size = BATCH_SIZE,\n",
    "         callbacks = [callback_func],\n",
    "         validation_data = (X_val_pad, y_val))"
   ]
  },
  {
   "cell_type": "code",
   "execution_count": 40,
   "metadata": {
    "colab": {
     "base_uri": "https://localhost:8080/",
     "height": 295
    },
    "id": "-jJiPHeNoJ3U",
    "outputId": "33c97204-5602-4570-8036-af9f81ed6d33"
   },
   "outputs": [
    {
     "data": {
      "image/png": "[encoded data removed]",
      "text/plain": [
       "<Figure size 432x288 with 1 Axes>"
      ]
     },
     "metadata": {
      "needs_background": "light",
      "tags": []
     },
     "output_type": "display_data"
    }
   ],
   "source": [
    "plt.plot(lshist.history['accuracy'])\n",
    "plt.plot(lshist.history['val_accuracy'])\n",
    "plt.title('model accuracy')\n",
    "plt.ylabel('accuracy')\n",
    "plt.xlabel('epoch')\n",
    "plt.legend(['train', 'validation'], loc='upper left')\n",
    "plt.show()"
   ]
  },
  {
   "cell_type": "code",
   "execution_count": 41,
   "metadata": {
    "colab": {
     "base_uri": "https://localhost:8080/",
     "height": 295
    },
    "id": "NN789zNnJ5PL",
    "outputId": "24c25acf-4f2a-4619-bf28-fc3ebbc332a0"
   },
   "outputs": [
    {
     "data": {
      "image/png": "[encoded data removed]",
      "text/plain": [
       "<Figure size 432x288 with 1 Axes>"
      ]
     },
     "metadata": {
      "needs_background": "light",
      "tags": []
     },
     "output_type": "display_data"
    }
   ],
   "source": [
    "plt.plot(lshist.history['loss'])\n",
    "plt.plot(lshist.history['val_loss'])\n",
    "plt.title('model loss')\n",
    "plt.ylabel('loss')\n",
    "plt.xlabel('epoch')\n",
    "plt.legend(['train', 'validation'], loc='upper left')\n",
    "plt.show()"
   ]
  },
  {
   "cell_type": "markdown",
   "metadata": {
    "id": "HSffZ1gxrdIV"
   },
   "source": [
    "### Predict"
   ]
  },
  {
   "cell_type": "code",
   "execution_count": 42,
   "metadata": {
    "colab": {
     "base_uri": "https://localhost:8080/"
    },
    "id": "WuxKuxWorZJ9",
    "outputId": "ba150fa5-08e1-4770-f01c-b9367bf7d8ad"
   },
   "outputs": [
    {
     "name": "stdout",
     "output_type": "stream",
     "text": [
      "42/42 [==============================] - 1s 25ms/step - loss: 1.2593 - accuracy: 0.7937\n"
     ]
    }
   ],
   "source": [
    "scores = lsmod.evaluate(X_test_pad, y_test, batch_size=128, verbose=1)"
   ]
  },
  {
   "cell_type": "code",
   "execution_count": 43,
   "metadata": {
    "colab": {
     "base_uri": "https://localhost:8080/"
    },
    "id": "swCNcKftrZNY",
    "outputId": "96fa262d-f67c-4ee5-fca4-265e151012fa"
   },
   "outputs": [
    {
     "data": {
      "text/plain": [
       "[1.2593286037445068, 0.7937102317810059]"
      ]
     },
     "execution_count": 43,
     "metadata": {
      "tags": []
     },
     "output_type": "execute_result"
    }
   ],
   "source": [
    "scores"
   ]
  },
  {
   "cell_type": "code",
   "execution_count": 44,
   "metadata": {
    "id": "7H4TWbABrZQD"
   },
   "outputs": [],
   "source": [
    "predict=lsmod.predict(X_test_pad)"
   ]
  },
  {
   "cell_type": "code",
   "execution_count": 45,
   "metadata": {
    "colab": {
     "base_uri": "https://localhost:8080/"
    },
    "id": "548mdcS2rZTz",
    "outputId": "6c8a8a05-d9f8-4189-848a-fd1c1573e5a3"
   },
   "outputs": [
    {
     "name": "stdout",
     "output_type": "stream",
     "text": [
      "predictions shape: (5342, 1)\n"
     ]
    }
   ],
   "source": [
    "print(\"predictions shape:\", predict.shape)"
   ]
  },
  {
   "cell_type": "code",
   "execution_count": 46,
   "metadata": {
    "colab": {
     "base_uri": "https://localhost:8080/"
    },
    "id": "hfnxG6NLvr5F",
    "outputId": "a37056c3-48a6-42c4-e240-647b6f80e270"
   },
   "outputs": [
    {
     "name": "stdout",
     "output_type": "stream",
     "text": [
      "Confusion Matrix:\n",
      "[[1708  619]\n",
      " [ 483 2532]]\n"
     ]
    }
   ],
   "source": [
    "# Confusion Matrix\n",
    "ConMatrix=metrics.confusion_matrix(y_test, predict.round(), labels=[1, 0])\n",
    "print('Confusion Matrix:')\n",
    "print(ConMatrix)"
   ]
  },
  {
   "cell_type": "code",
   "execution_count": 47,
   "metadata": {
    "colab": {
     "base_uri": "https://localhost:8080/",
     "height": 346
    },
    "id": "1r5Y3DKYwDw-",
    "outputId": "ef3b360a-8763-4363-da77-4431a4f00971"
   },
   "outputs": [
    {
     "data": {
      "image/png": "[encoded data removed]",
      "text/plain": [
       "<Figure size 432x288 with 1 Axes>"
      ]
     },
     "metadata": {
      "needs_background": "light",
      "tags": []
     },
     "output_type": "display_data"
    }
   ],
   "source": [
    "plt.clf()\n",
    "plt.imshow(ConMatrix, interpolation='nearest', cmap=plt.cm.Wistia)\n",
    "classNames = ['Sarchastic','NOT Sarchastic']\n",
    "plt.title('Confusion Matrix - Test Data')\n",
    "plt.ylabel('Actual label')\n",
    "plt.xlabel('Predicted label')\n",
    "tick_marks = np.arange(len(classNames))\n",
    "plt.xticks(tick_marks, classNames, rotation=45)\n",
    "plt.yticks(tick_marks, classNames)\n",
    "s = [['TP','FN'], ['FP', 'TN']]\n",
    " \n",
    "for i in range(2):\n",
    "    for j in range(2):\n",
    "        plt.text(j,i, str(s[i][j])+\" = \"+str(ConMatrix[i][j]))\n",
    "plt.show()"
   ]
  }
 ],
 "metadata": {
  "accelerator": "GPU",
  "colab": {
   "collapsed_sections": [],
   "name": "Project 11 - Sequential Models in NLP - Sarcasm Detection George Mathew.ipynb",
   "provenance": [],
   "toc_visible": true
  },
  "kernelspec": {
   "display_name": "Python 3",
   "language": "python",
   "name": "python3"
  },
  "language_info": {
   "codemirror_mode": {
    "name": "ipython",
    "version": 3
   },
   "file_extension": ".py",
   "mimetype": "text/x-python",
   "name": "python",
   "nbconvert_exporter": "python",
   "pygments_lexer": "ipython3",
   "version": "3.7.4"
  }
 },
 "nbformat": 4,
 "nbformat_minor": 1
}
